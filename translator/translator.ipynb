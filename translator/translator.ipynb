{
 "cells": [
  {
   "cell_type": "code",
   "execution_count": 2,
   "metadata": {},
   "outputs": [],
   "source": [
    "from deep_translator import GoogleTranslator"
   ]
  },
  {
   "cell_type": "code",
   "execution_count": null,
   "metadata": {},
   "outputs": [
    {
     "name": "stdout",
     "output_type": "stream",
     "text": [
      "text:  سلام از آشنایی با شما خوشوقتم\n",
      "English:  Hello, nice to meet you.\n"
     ]
    }
   ],
   "source": [
    "text = input(\"Please enter your sentence: \")\n",
    "en = GoogleTranslator(\"auto\", target=\"en\").translate(text) \n",
    "#auto means the translator shall detect the language and target is the language we want to be translated into\n",
    "\n",
    "print(\"text: \", text)\n",
    "print(\"English: \", en)"
   ]
  }
 ],
 "metadata": {
  "kernelspec": {
   "display_name": "base",
   "language": "python",
   "name": "python3"
  },
  "language_info": {
   "codemirror_mode": {
    "name": "ipython",
    "version": 3
   },
   "file_extension": ".py",
   "mimetype": "text/x-python",
   "name": "python",
   "nbconvert_exporter": "python",
   "pygments_lexer": "ipython3",
   "version": "3.8.8"
  }
 },
 "nbformat": 4,
 "nbformat_minor": 2
}
